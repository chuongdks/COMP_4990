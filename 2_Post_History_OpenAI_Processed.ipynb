{
 "cells": [
  {
   "cell_type": "code",
   "execution_count": 5,
   "id": "0d1f9685",
   "metadata": {},
   "outputs": [],
   "source": [
    "import pandas as pd\n",
    "import os\n",
    "from dotenv import load_dotenv\n",
    "from openai import OpenAI"
   ]
  },
  {
   "cell_type": "code",
   "execution_count": 7,
   "id": "e8c6fecd",
   "metadata": {},
   "outputs": [],
   "source": [
    "# Load the API key from config file\n",
    "load_dotenv(\"./config/api_key.env\")\n",
    "# Fetch the API key from the environment\n",
    "api_key = os.getenv(\"OPENAI_API_KEY\")\n",
    "client = OpenAI(api_key=api_key)"
   ]
  },
  {
   "cell_type": "code",
   "execution_count": 14,
   "id": "114f6788-66b4-4251-bf75-685c7f3db735",
   "metadata": {},
   "outputs": [],
   "source": [
    "# Load your dataset\n",
    "df = pd.read_csv('./PostHistoryFirstVersion.csv')\n",
    "\n",
    "# Create empty lists to store the new improved stuff\n",
    "new_titles = []\n",
    "new_bodies = []\n",
    "new_tags = []\n",
    "\n",
    "# Go through each row\n",
    "for index, row in df.iterrows():\n",
    "    # Construct the instruction for dev role\n",
    "    instructions = f\"\"\"\n",
    "    # Identity\n",
    "    You are a developer assistant that improves Stack Overflow questions.\n",
    "    \n",
    "    # Instructions\n",
    "    * Rewrite the Title to be more clear and professional.\n",
    "    * Rewrite the Body to be clearer and more detailed if needed.\n",
    "    * Add or Adjust Tags if necessary.\n",
    "    \n",
    "    * Format your response as:\n",
    "    _ Title: <your improved title>\\n\n",
    "    _ Body: <your improved body>\\n\n",
    "    _ Tags: <your improved tags separated by commas>\\n\n",
    "    \n",
    "    \"\"\"\n",
    "    \n",
    "    # Construct the input for the user role\n",
    "    prompt = f\"\"\"\n",
    "    Rewrite the Stackoverflow question given 3 information below:\n",
    "    _ Original Title:\n",
    "    {row['Title']}\n",
    "    \n",
    "    _ Original Body:\n",
    "    {row['Body']}\n",
    "    \n",
    "    _ Original Tags:\n",
    "    {row['Tags']}\n",
    "    \"\"\"\n",
    "    # Send the prompt to OpenAI\n",
    "    completion = client.chat.completions.create(\n",
    "        model=\"gpt-4.1-nano\",  \n",
    "        \n",
    "        messages=[\n",
    "            {\n",
    "                \"role\": \"developer\",\n",
    "                \"content\": instructions\n",
    "            },\n",
    "            {\n",
    "                \"role\": \"user\",\n",
    "                \"content\": prompt\n",
    "            }\n",
    "        ],\n",
    "        \n",
    "        n=1, \n",
    "        temperature=0.3,\n",
    "        max_tokens=1000\n",
    "    )\n",
    "    \n",
    "    # Parse the response\n",
    "    reply = completion.choices[0].message.content\n",
    "    \n",
    "    # Very basic parsing\n",
    "    title_only = reply.split('Title:')[1].split('Body:')[0].strip()\n",
    "    body_only = reply.split('Body:')[1].split('Tags:')[0].strip()\n",
    "    tags_only = reply.split('Tags:')[1].strip()\n",
    "    \n",
    "    new_titles.append(title_only)\n",
    "    new_bodies.append(body_only)\n",
    "    new_tags.append(tags_only)"
   ]
  },
  {
   "cell_type": "code",
   "execution_count": 15,
   "id": "c4dc162d",
   "metadata": {},
   "outputs": [],
   "source": [
    "# print(new_titles)\n",
    "# print(new_bodies)\n",
    "# print(new_tags)\n",
    "\n",
    "# Add new columns to the DataFrame\n",
    "df['Improved_Title'] = new_titles\n",
    "df['Improved_Body'] = new_bodies\n",
    "df['Improved_Tags'] = new_tags\n",
    "\n",
    "# Save to new CSV\n",
    "df.to_csv('ImprovedQuestions.csv', index=False)"
   ]
  },
  {
   "cell_type": "code",
   "execution_count": null,
   "id": "00fc3ca1",
   "metadata": {},
   "outputs": [],
   "source": [
    "print(df)"
   ]
  }
 ],
 "metadata": {
  "kernelspec": {
   "display_name": "Python 3 (ipykernel)",
   "language": "python",
   "name": "python3"
  }
 },
 "nbformat": 4,
 "nbformat_minor": 5
}
