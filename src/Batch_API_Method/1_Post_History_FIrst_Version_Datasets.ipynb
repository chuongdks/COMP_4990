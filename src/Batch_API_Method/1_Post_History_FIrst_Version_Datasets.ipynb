{
 "cells": [
  {
   "cell_type": "code",
   "execution_count": 2,
   "id": "4e236d06-d211-4c39-a802-64be98dc0f18",
   "metadata": {},
   "outputs": [],
   "source": [
    "import pandas as pd"
   ]
  },
  {
   "cell_type": "markdown",
   "id": "83a18315-cf46-4188-bb62-42f86c03f9a4",
   "metadata": {},
   "source": [
    "# 1. Load the Datasets and Filter only the Initial Title, Body and Tags"
   ]
  },
  {
   "cell_type": "code",
   "execution_count": null,
   "id": "84023c7b",
   "metadata": {},
   "outputs": [
    {
     "name": "stdout",
     "output_type": "stream",
     "text": [
      "       PostId         CreationDate           Name  Score  \\\n",
      "0       90178  2008-09-18 05:06:17  Initial Title    NaN   \n",
      "1       90178  2008-09-18 05:06:17   Initial Body    NaN   \n",
      "2       90178  2008-09-18 05:06:17   Initial Tags    NaN   \n",
      "4       90178  2008-09-18 06:01:58        Answers   19.0   \n",
      "7       90178  2008-09-18 08:16:50        Answers  294.0   \n",
      "..        ...                  ...            ...    ...   \n",
      "463  10123953  2022-10-05 13:22:03        Answers   15.0   \n",
      "464  10123953  2022-10-08 12:28:08       Comments    0.0   \n",
      "465  10123953  2023-06-26 14:05:09       Comments    0.0   \n",
      "466  10123953  2023-08-11 11:19:43        Answers    1.0   \n",
      "467  10123953  2023-10-27 05:01:19        Answers    5.0   \n",
      "\n",
      "                                                  Text  \n",
      "0           Make a div fill the remaining screen space  \n",
      "1    I am currently working on a web application, w...  \n",
      "2                                   <table><css><html>  \n",
      "4    <pre><code>&lt;!DOCTYPE html PUBLIC \"-//W3C//D...  \n",
      "7    <p>There really isn't a sound, cross-browser w...  \n",
      "..                                                 ...  \n",
      "463  <p>Simple one line solution for me to sort dat...  \n",
      "464  not directly related, but if someone is trying...  \n",
      "465  @Fed No it shouldn't. That depends entirely on...  \n",
      "466  <h2>Date form <code>YYYY-MM-DDTHH:mm:ss.sssZ</...  \n",
      "467  <pre><code>var array = [\\n  {id: 1, date: new ...  \n",
      "\n",
      "[346 rows x 5 columns]\n"
     ]
    }
   ],
   "source": [
    "# Step 1: Load the data\n",
    "df = pd.read_csv('./data/processed/Post_Combined.csv')\n",
    "\n",
    "# Step 2: Filter only the Initial Title, Body, Tags, Comments and Answers\n",
    "filter = df['Name'].isin(['Initial Title', 'Initial Body', 'Initial Tags', 'Comments', 'Answers'])\n",
    "df = df[filter]\n",
    "\n",
    "# Debug\n",
    "print(df)"
   ]
  },
  {
   "cell_type": "markdown",
   "id": "d6d3594c-36f8-4175-a5d0-1204994f6021",
   "metadata": {},
   "source": [
    "## Grouped by PostID and Extract each row Initial version"
   ]
  },
  {
   "cell_type": "code",
   "execution_count": null,
   "id": "88b4fca1-bacb-4536-84b0-804e64c4b8d6",
   "metadata": {},
   "outputs": [
    {
     "name": "stdout",
     "output_type": "stream",
     "text": [
      "{'PostId': 90178, 'Title': 'Make a div fill the remaining screen space', 'Body': 'I am currently working on a web application, where I want the content to fill the entire screen. I have a header `div` and a content `div`. At the moment I am using a table for the layout like so:\\r\\n\\r\\nCSS:\\r\\n\\r\\n    #page {\\r\\n      height: 100%;\\r\\n    }\\r\\n    #tdcontent {\\r\\n      height: 100%;\\r\\n    }\\r\\n\\r\\nHTML:\\r\\n\\r\\n    <table id=\"page\">\\r\\n      <tr><td id=\"tdheader\">\\r\\n        <div id=\"header\">...</div>\\r\\n      </td></tr>\\r\\n      <tr><td id=\"tdcontent>\\r\\n        <div id=\"content\">...</div>\\r\\n      </td>\\r\\n    </table>\\r\\n\\r\\nWhich works how I like. The table remains at 100%, and the `tdcontent` element is always less than 100%. Is there a way to achieve the same effect without using the `table`?', 'Tags': '<table><css><html>', 'Answers': '<p>max-height: -webkit-fill-available;</p>\\n<p>that\\'s it. all you need.</p>\\n<p>On Safari you may notice that the height being incorrect when you have height of 100vh because the toolbar messes with the browser height. More information and other techniques to solve this can be found in this article <a href=\"https://lukechannings.com/blog/2021-06-09-does-safari-15-fix-the-vh-bug/\" rel=\"nofollow noreferrer\">https://lukechannings.com/blog/2021-06-09-does-safari-15-fix-the-vh-bug/</a></p>\\n', 'Comments': 'using grid in this day (>2020) would be better, grid-template-rows: auto 1fr <- will have your desired effect, also make the grid container have a min-height to fill the page 100vh.'}\n"
     ]
    }
   ],
   "source": [
    "# Step 3: Group by PostId\n",
    "grouped = df.groupby('PostId')\n",
    "\n",
    "# # Debug: Display the dataframe after group by PostID object\n",
    "# for post_id, group in grouped:\n",
    "#     print(f\"Post ID: {post_id}\")\n",
    "#     print(group)\n",
    "#     print(\"-\" * 40)\n",
    "    \n",
    "# Step 4: For each PostId, extract Title, Body, and Tags\n",
    "records = []\n",
    "\n",
    "for post_id, group in grouped:\n",
    "    # Dictionary for each row. Has PostID, Initial Title, Initial BOdy,Initial Tag\n",
    "    post = {\n",
    "        'PostId': post_id,\n",
    "        'Title': None,\n",
    "        'Body': None,\n",
    "        'Tags': None,\n",
    "        'Comments': [],\n",
    "        'Answers': []\n",
    "    }\n",
    "    \n",
    "    # Create List for Comments and Answers so that the 'post' Dictionary could include List\n",
    "    comments = []\n",
    "    answers = []\n",
    "\n",
    "    for row in group.itertuples():\n",
    "        if row.Name == 'Initial Title':\n",
    "            post['Title'] = row.Text\n",
    "        elif row.Name == 'Initial Body':\n",
    "            post['Body'] = row.Text\n",
    "        elif row.Name == 'Initial Tags':\n",
    "            post['Tags'] = row.Text\n",
    "        elif row.Name == 'Comments':\n",
    "            comments.append((row.Score, row.Text))\n",
    "        elif row.Name == 'Answers':\n",
    "            answers.append((row.Score, row.Text))\n",
    "            \n",
    "    # Sort and store top 3 by score\n",
    "    post['Comments'] = [text for score, text in sorted(comments, reverse=True)[:3]]\n",
    "    post['Answers'] = [text for score, text in sorted(answers, reverse=True)[:3]]\n",
    "    \n",
    "    records.append(post)\n",
    "    \n",
    "# Debug\n",
    "#print(records[0])"
   ]
  },
  {
   "cell_type": "code",
   "execution_count": null,
   "id": "a6cda72f",
   "metadata": {},
   "outputs": [],
   "source": [
    "# Step 5: Turn records List into DataFrame\n",
    "final_df = pd.DataFrame(records)\n",
    "\n",
    "# Debug\n",
    "from IPython.display import display\n",
    "display(final_df)\n",
    "\n",
    "# Step 6: Export to csv file\n",
    "final_df.to_csv(path_or_buf='./data/processed/PostHistoryFirstVersion.csv', index = False) # False index param means no index for export data"
   ]
  }
 ],
 "metadata": {
  "kernelspec": {
   "display_name": "Python 3 (ipykernel)",
   "language": "python",
   "name": "python3"
  },
  "language_info": {
   "codemirror_mode": {
    "name": "ipython",
    "version": 3
   },
   "file_extension": ".py",
   "mimetype": "text/x-python",
   "name": "python",
   "nbconvert_exporter": "python",
   "pygments_lexer": "ipython3",
   "version": "3.12.7"
  }
 },
 "nbformat": 4,
 "nbformat_minor": 5
}
