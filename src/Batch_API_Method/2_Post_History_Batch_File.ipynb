{
 "cells": [
  {
   "cell_type": "code",
   "execution_count": 18,
   "id": "a3c17f7b",
   "metadata": {},
   "outputs": [],
   "source": [
    "import pandas as pd\n",
    "from dotenv import load_dotenv\n",
    "import json"
   ]
  },
  {
   "cell_type": "markdown",
   "id": "4ffda14e",
   "metadata": {},
   "source": [
    "# 2. Prepare and Create the Batch Input file for the Batch API"
   ]
  },
  {
   "cell_type": "code",
   "execution_count": 19,
   "id": "67cc6e3b",
   "metadata": {},
   "outputs": [
    {
     "name": "stdout",
     "output_type": "stream",
     "text": [
      "[{'custom_id': 'request-0', 'method': 'POST', 'url': '/v1/chat/completions', 'body': {'model': 'gpt-4.1-nano', 'messages': [{'role': 'system', 'content': '\\n    # Identity\\n    You are a developer assistant that improves Stack Overflow questions.\\n    \\n    # Instructions\\n    * Rewrite the Title to be more clear and professional.\\n    * Rewrite the Body to be clearer and more detailed if needed.\\n    * Add or Adjust Tags if necessary.\\n    \\n    * Format your response as:\\n    _ Title: your improved title\\n\\n    _ Body: your improved body\\n\\n    _ Tags: your improved tags separated <>, like this <tag1><tag2><tag3>\\n\\n    \\n    '}, {'role': 'developer', 'content': 'Response like you are a senior developer writing for a question on Stack Overflow. With clear and concise Title, Body, Tags'}, {'role': 'user', 'content': '\\n    Could you rewrite this Stackoverflow question given 3 information below:\\n    _ Original Title:\\n    Make a div fill the remaining screen space\\n    \\n    _ Original Body:\\n    I am currently working on a web application, where I want the content to fill the entire screen. I have a header `div` and a content `div`. At the moment I am using a table for the layout like so:\\r\\n\\r\\nCSS:\\r\\n\\r\\n    #page {\\r\\n      height: 100%;\\r\\n    }\\r\\n    #tdcontent {\\r\\n      height: 100%;\\r\\n    }\\r\\n\\r\\nHTML:\\r\\n\\r\\n    <table id=\"page\">\\r\\n      <tr><td id=\"tdheader\">\\r\\n        <div id=\"header\">...</div>\\r\\n      </td></tr>\\r\\n      <tr><td id=\"tdcontent>\\r\\n        <div id=\"content\">...</div>\\r\\n      </td>\\r\\n    </table>\\r\\n\\r\\nWhich works how I like. The table remains at 100%, and the `tdcontent` element is always less than 100%. Is there a way to achieve the same effect without using the `table`?\\n    \\n    _ Original Tags:\\n    <table><css><html>\\n    '}], 'n': 1, 'max_tokens': 1000, 'temperature': 0.3}}, {'custom_id': 'request-1', 'method': 'POST', 'url': '/v1/chat/completions', 'body': {'model': 'gpt-4.1-nano', 'messages': [{'role': 'system', 'content': '\\n    # Identity\\n    You are a developer assistant that improves Stack Overflow questions.\\n    \\n    # Instructions\\n    * Rewrite the Title to be more clear and professional.\\n    * Rewrite the Body to be clearer and more detailed if needed.\\n    * Add or Adjust Tags if necessary.\\n    \\n    * Format your response as:\\n    _ Title: your improved title\\n\\n    _ Body: your improved body\\n\\n    _ Tags: your improved tags separated <>, like this <tag1><tag2><tag3>\\n\\n    \\n    '}, {'role': 'developer', 'content': 'Response like you are a senior developer writing for a question on Stack Overflow. With clear and concise Title, Body, Tags'}, {'role': 'user', 'content': '\\n    Could you rewrite this Stackoverflow question given 3 information below:\\n    _ Original Title:\\n    Compare 2 dates with JavaScript\\n    \\n    _ Original Body:\\n    can some one suggest a way to compare values of 2 dates greater then, less then and not in the passed using javascript. They values will be coming from text boxes\\r\\n\\r\\nThanks\\n    \\n    _ Original Tags:\\n    <date><compare>\\n    '}], 'n': 1, 'max_tokens': 1000, 'temperature': 0.3}}, {'custom_id': 'request-2', 'method': 'POST', 'url': '/v1/chat/completions', 'body': {'model': 'gpt-4.1-nano', 'messages': [{'role': 'system', 'content': '\\n    # Identity\\n    You are a developer assistant that improves Stack Overflow questions.\\n    \\n    # Instructions\\n    * Rewrite the Title to be more clear and professional.\\n    * Rewrite the Body to be clearer and more detailed if needed.\\n    * Add or Adjust Tags if necessary.\\n    \\n    * Format your response as:\\n    _ Title: your improved title\\n\\n    _ Body: your improved body\\n\\n    _ Tags: your improved tags separated <>, like this <tag1><tag2><tag3>\\n\\n    \\n    '}, {'role': 'developer', 'content': 'Response like you are a senior developer writing for a question on Stack Overflow. With clear and concise Title, Body, Tags'}, {'role': 'user', 'content': '\\n    Could you rewrite this Stackoverflow question given 3 information below:\\n    _ Original Title:\\n    JavaScript \"For ...in\" with Arrays\\n    \\n    _ Original Body:\\n    I\\'ve been told not to use \"for...in\" with Arrays in JavaScript but never received a satisfactory reason as to why not. \\r\\n\\r\\nThe question is: Why is using \"for ...in\" with array iteration such a bad idea?\\n    \\n    _ Original Tags:\\n    <javascript>\\n    '}], 'n': 1, 'max_tokens': 1000, 'temperature': 0.3}}, {'custom_id': 'request-3', 'method': 'POST', 'url': '/v1/chat/completions', 'body': {'model': 'gpt-4.1-nano', 'messages': [{'role': 'system', 'content': '\\n    # Identity\\n    You are a developer assistant that improves Stack Overflow questions.\\n    \\n    # Instructions\\n    * Rewrite the Title to be more clear and professional.\\n    * Rewrite the Body to be clearer and more detailed if needed.\\n    * Add or Adjust Tags if necessary.\\n    \\n    * Format your response as:\\n    _ Title: your improved title\\n\\n    _ Body: your improved body\\n\\n    _ Tags: your improved tags separated <>, like this <tag1><tag2><tag3>\\n\\n    \\n    '}, {'role': 'developer', 'content': 'Response like you are a senior developer writing for a question on Stack Overflow. With clear and concise Title, Body, Tags'}, {'role': 'user', 'content': '\\n    Could you rewrite this Stackoverflow question given 3 information below:\\n    _ Original Title:\\n    Stacktrace to string in Java\\n    \\n    _ Original Body:\\n    Easiest way to convert the result of Throwable.getStackTrace() to a string that depicts the stacktrace?\\n    \\n    _ Original Tags:\\n    <stack-trace><java><tostring>\\n    '}], 'n': 1, 'max_tokens': 1000, 'temperature': 0.3}}, {'custom_id': 'request-4', 'method': 'POST', 'url': '/v1/chat/completions', 'body': {'model': 'gpt-4.1-nano', 'messages': [{'role': 'system', 'content': '\\n    # Identity\\n    You are a developer assistant that improves Stack Overflow questions.\\n    \\n    # Instructions\\n    * Rewrite the Title to be more clear and professional.\\n    * Rewrite the Body to be clearer and more detailed if needed.\\n    * Add or Adjust Tags if necessary.\\n    \\n    * Format your response as:\\n    _ Title: your improved title\\n\\n    _ Body: your improved body\\n\\n    _ Tags: your improved tags separated <>, like this <tag1><tag2><tag3>\\n\\n    \\n    '}, {'role': 'developer', 'content': 'Response like you are a senior developer writing for a question on Stack Overflow. With clear and concise Title, Body, Tags'}, {'role': 'user', 'content': \"\\n    Could you rewrite this Stackoverflow question given 3 information below:\\n    _ Original Title:\\n    python 'self' explained\\n    \\n    _ Original Body:\\n    What is the purpose of the 'self' word in python. I understand it refers to the specific object created from that class, but i cant see why it explicitly needs to be added to very function as a parameter. To illustrate, in ruby, i could do this:\\r\\n\\r\\n    class myClass\\r\\n        def myFunc(name)\\r\\n            @name = name\\r\\n        end\\r\\n    end\\r\\n\\r\\nWhich i understand, quite easily, However in python i need to include self:\\r\\n\\r\\n    class myClass:\\r\\n        def myFunc(self, name):\\r\\n            self.name = name\\r\\n\\r\\nCan anyone talk me through this? its not something ive come across in my (admittedly limited) experience.\\r\\nAny help would be appreciated.\\n    \\n    _ Original Tags:\\n    <python><self><explain>\\n    \"}], 'n': 1, 'max_tokens': 1000, 'temperature': 0.3}}, {'custom_id': 'request-5', 'method': 'POST', 'url': '/v1/chat/completions', 'body': {'model': 'gpt-4.1-nano', 'messages': [{'role': 'system', 'content': '\\n    # Identity\\n    You are a developer assistant that improves Stack Overflow questions.\\n    \\n    # Instructions\\n    * Rewrite the Title to be more clear and professional.\\n    * Rewrite the Body to be clearer and more detailed if needed.\\n    * Add or Adjust Tags if necessary.\\n    \\n    * Format your response as:\\n    _ Title: your improved title\\n\\n    _ Body: your improved body\\n\\n    _ Tags: your improved tags separated <>, like this <tag1><tag2><tag3>\\n\\n    \\n    '}, {'role': 'developer', 'content': 'Response like you are a senior developer writing for a question on Stack Overflow. With clear and concise Title, Body, Tags'}, {'role': 'user', 'content': '\\n    Could you rewrite this Stackoverflow question given 3 information below:\\n    _ Original Title:\\n    java servlet instantiation and session variables\\n    \\n    _ Original Body:\\n    Out of curiosity and naivety:\\r\\n\\r\\nSuppose, I have a webserver which holds numerous servlets. For information passing among those servlets I am getting the servlet context and setting session variables. Now, if 2 or more users send request to this server then what happens to the session variables? Will they all be common for all the users or they will be different for each user. If they are different, then how was the server able to differentiate between different users?\\r\\n\\r\\nOne more similar questions,\\r\\nIf there are n users accessing a particular servlet, then this servlet gets instantiated only the first time the first user accessed it or it gets instantiated for all the users separately?\\r\\n\\r\\nThanks,\\n    \\n    _ Original Tags:\\n    <servlets>\\n    '}], 'n': 1, 'max_tokens': 1000, 'temperature': 0.3}}, {'custom_id': 'request-6', 'method': 'POST', 'url': '/v1/chat/completions', 'body': {'model': 'gpt-4.1-nano', 'messages': [{'role': 'system', 'content': '\\n    # Identity\\n    You are a developer assistant that improves Stack Overflow questions.\\n    \\n    # Instructions\\n    * Rewrite the Title to be more clear and professional.\\n    * Rewrite the Body to be clearer and more detailed if needed.\\n    * Add or Adjust Tags if necessary.\\n    \\n    * Format your response as:\\n    _ Title: your improved title\\n\\n    _ Body: your improved body\\n\\n    _ Tags: your improved tags separated <>, like this <tag1><tag2><tag3>\\n\\n    \\n    '}, {'role': 'developer', 'content': 'Response like you are a senior developer writing for a question on Stack Overflow. With clear and concise Title, Body, Tags'}, {'role': 'user', 'content': '\\n    Could you rewrite this Stackoverflow question given 3 information below:\\n    _ Original Title:\\n    nulls object in Python?\\n    \\n    _ Original Body:\\n    How do I refer to the null object in Python?\\n    \\n    _ Original Tags:\\n    <python><null>\\n    '}], 'n': 1, 'max_tokens': 1000, 'temperature': 0.3}}, {'custom_id': 'request-7', 'method': 'POST', 'url': '/v1/chat/completions', 'body': {'model': 'gpt-4.1-nano', 'messages': [{'role': 'system', 'content': '\\n    # Identity\\n    You are a developer assistant that improves Stack Overflow questions.\\n    \\n    # Instructions\\n    * Rewrite the Title to be more clear and professional.\\n    * Rewrite the Body to be clearer and more detailed if needed.\\n    * Add or Adjust Tags if necessary.\\n    \\n    * Format your response as:\\n    _ Title: your improved title\\n\\n    _ Body: your improved body\\n\\n    _ Tags: your improved tags separated <>, like this <tag1><tag2><tag3>\\n\\n    \\n    '}, {'role': 'developer', 'content': 'Response like you are a senior developer writing for a question on Stack Overflow. With clear and concise Title, Body, Tags'}, {'role': 'user', 'content': '\\n    Could you rewrite this Stackoverflow question given 3 information below:\\n    _ Original Title:\\n    Delete an element from a dictionary\\n    \\n    _ Original Body:\\n    Is there a way to delete an element from a dictionary in python?\\r\\n\\r\\nI know i can just call `.pop` on the dictionary, but that returns the element that was removed. What im looking for is something returns the dictionary *minus* the element in question. \\r\\n\\r\\nAt present i have a helper function that accepts the dictionary in question as parameter, and then returns a dictionary with the element removed, i just wondered whether there was more elegant solution?\\n    \\n    _ Original Tags:\\n    <python><dictionary><remove>\\n    '}], 'n': 1, 'max_tokens': 1000, 'temperature': 0.3}}, {'custom_id': 'request-8', 'method': 'POST', 'url': '/v1/chat/completions', 'body': {'model': 'gpt-4.1-nano', 'messages': [{'role': 'system', 'content': '\\n    # Identity\\n    You are a developer assistant that improves Stack Overflow questions.\\n    \\n    # Instructions\\n    * Rewrite the Title to be more clear and professional.\\n    * Rewrite the Body to be clearer and more detailed if needed.\\n    * Add or Adjust Tags if necessary.\\n    \\n    * Format your response as:\\n    _ Title: your improved title\\n\\n    _ Body: your improved body\\n\\n    _ Tags: your improved tags separated <>, like this <tag1><tag2><tag3>\\n\\n    \\n    '}, {'role': 'developer', 'content': 'Response like you are a senior developer writing for a question on Stack Overflow. With clear and concise Title, Body, Tags'}, {'role': 'user', 'content': \"\\n    Could you rewrite this Stackoverflow question given 3 information below:\\n    _ Original Title:\\n    END in git bash\\n    \\n    _ Original Body:\\n    I'm trying to learn git with the help of git immersion http://gitimmersion.com/\\r\\nBut there's one thing that frustrates me whenever I use git log.\\r\\n\\r\\n![enter image description here][1]\\r\\n\\r\\n\\r\\n  [1]: https://i.sstatic.net/yJ0Ms.png\\r\\n\\r\\n\\r\\nI can't figure out what to do next when I encounter this (END) word. I can't type any commands and I end up closing the current bash and open another. How do I type in the next command that I want to use?\\n    \\n    _ Original Tags:\\n    <git>\\n    \"}], 'n': 1, 'max_tokens': 1000, 'temperature': 0.3}}, {'custom_id': 'request-9', 'method': 'POST', 'url': '/v1/chat/completions', 'body': {'model': 'gpt-4.1-nano', 'messages': [{'role': 'system', 'content': '\\n    # Identity\\n    You are a developer assistant that improves Stack Overflow questions.\\n    \\n    # Instructions\\n    * Rewrite the Title to be more clear and professional.\\n    * Rewrite the Body to be clearer and more detailed if needed.\\n    * Add or Adjust Tags if necessary.\\n    \\n    * Format your response as:\\n    _ Title: your improved title\\n\\n    _ Body: your improved body\\n\\n    _ Tags: your improved tags separated <>, like this <tag1><tag2><tag3>\\n\\n    \\n    '}, {'role': 'developer', 'content': 'Response like you are a senior developer writing for a question on Stack Overflow. With clear and concise Title, Body, Tags'}, {'role': 'user', 'content': '\\n    Could you rewrite this Stackoverflow question given 3 information below:\\n    _ Original Title:\\n    Sort Javascript Object Array By Date\\n    \\n    _ Original Body:\\n    Say I have an array of a few objects:\\r\\n\\r\\n    var array = [{id: 1 date: Mar 12 2012 10:00:00 AM}{id: 2 date: Mar 8 2012 08:00:00 AM}];\\r\\n\\r\\nHow can I sort this array by the date element in order from the date closest to the current date and time down? Keep in mind that the array may have many objects, but for the sake of simplicity I used 2.\\r\\n\\r\\nWould I use the sort function and a custom comparator?\\n    \\n    _ Original Tags:\\n    <javascript><datetime>\\n    '}], 'n': 1, 'max_tokens': 1000, 'temperature': 0.3}}]\n"
     ]
    }
   ],
   "source": [
    "# Load the dataset\n",
    "df = pd.read_csv('./data/processed/PostHistoryFirstVersion.csv')\n",
    "\n",
    "# Make individual request for the batch file JSON style (example of a batch entry: https://platform.openai.com/docs/guides/batch#1-prepare-your-batch-file)\n",
    "def make_batch_entry(request_id, instructions, prompt_text):\n",
    "    return {\n",
    "        \"custom_id\": f\"request-{request_id}\",\n",
    "        \"method\": \"POST\",\n",
    "        \"url\": \"/v1/chat/completions\",\n",
    "        \"body\": {\n",
    "            \"model\": \"gpt-4.1-nano\",        # CHANGE THE MODEL HERE. THIS MODEL IS THE CHEAPEST\n",
    "            \"messages\": [\n",
    "                {\n",
    "                    \"role\": \"system\", \n",
    "                    \"content\": instructions\n",
    "                },\n",
    "                {\n",
    "                    \"role\": \"developer\",\n",
    "                    \"content\": \"Response like you are a senior developer writing for a question on Stack Overflow. With clear and concise Title, Body, Tags\"\n",
    "                },\n",
    "                {\n",
    "                    \"role\": \"user\", \n",
    "                    \"content\": prompt_text\n",
    "                }\n",
    "            ],\n",
    "            \"n\": 1,\n",
    "            \"max_tokens\": 1000,\n",
    "            \"temperature\": 0.3\n",
    "        }\n",
    "    }\n",
    "\n",
    "# Create a batch request per question\n",
    "batch_requests = []\n",
    "for index, row in df.iterrows():\n",
    "    # Construct the instruction for dev role\n",
    "    instructions = f\"\"\"\n",
    "    # Identity\n",
    "    You are a developer assistant that improves Stack Overflow questions.\n",
    "    \n",
    "    # Instructions\n",
    "    * Rewrite the Title to be more clear and professional.\n",
    "    * Rewrite the Body to be clearer and more detailed if needed.\n",
    "    * Add or Adjust Tags if necessary.\n",
    "    \n",
    "    * Format your response as:\n",
    "    _ Title: your improved title\\n\n",
    "    _ Body: your improved body\\n\n",
    "    _ Tags: your improved tags separated <>, like this <tag1><tag2><tag3>\\n\n",
    "    \n",
    "    \"\"\"\n",
    "    \n",
    "    # Construct the input for the user role\n",
    "    prompt = f\"\"\"\n",
    "    Could you rewrite this Stackoverflow question given 3 information below:\n",
    "    _ Original Title:\n",
    "    {row['Title']}\n",
    "    \n",
    "    _ Original Body:\n",
    "    {row['Body']}\n",
    "    \n",
    "    _ Original Tags:\n",
    "    {row['Tags']}\n",
    "    \"\"\"\n",
    "    \n",
    "    # append each batch request in a list\n",
    "    batch_requests.append(make_batch_entry(index, instructions, prompt))\n",
    "\n",
    "print(batch_requests)\n",
    "\n",
    "# write \"batch_requests\" to a json file\n",
    "with open(\"./data/processed/batch_input.jsonl\", \"w\", encoding=\"utf-8\") as json_file: \n",
    "    for item in batch_requests:\n",
    "        json_file.write(json.dumps(item, ensure_ascii = False) + \"\\n\") # , indent = 4"
   ]
  },
  {
   "cell_type": "code",
   "execution_count": null,
   "id": "bc76f39e",
   "metadata": {},
   "outputs": [],
   "source": []
  }
 ],
 "metadata": {
  "kernelspec": {
   "display_name": "Python 3 (ipykernel)",
   "language": "python",
   "name": "python3"
  }
 },
 "nbformat": 4,
 "nbformat_minor": 5
}
